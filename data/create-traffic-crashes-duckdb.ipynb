{
 "cells": [
  {
   "cell_type": "code",
   "execution_count": null,
   "metadata": {},
   "outputs": [],
   "source": [
    "import sys\n",
    "!{sys.executable} -m pip install duckdb pandas"
   ]
  },
  {
   "cell_type": "code",
   "execution_count": 2,
   "metadata": {},
   "outputs": [],
   "source": [
    "import duckdb"
   ]
  },
  {
   "cell_type": "code",
   "execution_count": 3,
   "metadata": {},
   "outputs": [
    {
     "data": {
      "text/plain": [
       "<duckdb.DuckDBPyConnection at 0x26d0093fd70>"
      ]
     },
     "execution_count": 3,
     "metadata": {},
     "output_type": "execute_result"
    }
   ],
   "source": [
    "db = duckdb.connect(database='./traffic-crashes.duckdb')\n",
    "\n",
    "# enable unordered insertion for faster CSV data loading\n",
    "db.execute(\"SET preserve_insertion_order=false\")\n",
    "\n",
    "# enable new experimental parallel CSV data reader\n",
    "db.execute(\"SET experimental_parallel_csv=true\")"
   ]
  },
  {
   "cell_type": "code",
   "execution_count": 4,
   "metadata": {},
   "outputs": [
    {
     "data": {
      "text/plain": [
       "<duckdb.DuckDBPyConnection at 0x26d0093fd70>"
      ]
     },
     "execution_count": 4,
     "metadata": {},
     "output_type": "execute_result"
    }
   ],
   "source": [
    "db.execute(\n",
    "  \"CREATE TABLE TrafficCrashes AS SELECT * FROM read_csv_auto('./traffic-crashes.csv')\")"
   ]
  },
  {
   "cell_type": "code",
   "execution_count": 5,
   "metadata": {},
   "outputs": [
    {
     "name": "stdout",
     "output_type": "stream",
     "text": [
      "                      column_name column_type null  key default  extra\n",
      "0                 CRASH_RECORD_ID     VARCHAR  YES  NaN     NaN    NaN\n",
      "1                           RD_NO     VARCHAR  YES  NaN     NaN    NaN\n",
      "2                CRASH_DATE_EST_I     VARCHAR  YES  NaN     NaN    NaN\n",
      "3                      CRASH_DATE   TIMESTAMP  YES  NaN     NaN    NaN\n",
      "4              POSTED_SPEED_LIMIT     INTEGER  YES  NaN     NaN    NaN\n",
      "5          TRAFFIC_CONTROL_DEVICE     VARCHAR  YES  NaN     NaN    NaN\n",
      "6                DEVICE_CONDITION     VARCHAR  YES  NaN     NaN    NaN\n",
      "7               WEATHER_CONDITION     VARCHAR  YES  NaN     NaN    NaN\n",
      "8              LIGHTING_CONDITION     VARCHAR  YES  NaN     NaN    NaN\n",
      "9                FIRST_CRASH_TYPE     VARCHAR  YES  NaN     NaN    NaN\n",
      "10                TRAFFICWAY_TYPE     VARCHAR  YES  NaN     NaN    NaN\n",
      "11                       LANE_CNT     INTEGER  YES  NaN     NaN    NaN\n",
      "12                      ALIGNMENT     VARCHAR  YES  NaN     NaN    NaN\n",
      "13           ROADWAY_SURFACE_COND     VARCHAR  YES  NaN     NaN    NaN\n",
      "14                    ROAD_DEFECT     VARCHAR  YES  NaN     NaN    NaN\n",
      "15                    REPORT_TYPE     VARCHAR  YES  NaN     NaN    NaN\n",
      "16                     CRASH_TYPE     VARCHAR  YES  NaN     NaN    NaN\n",
      "17         INTERSECTION_RELATED_I     VARCHAR  YES  NaN     NaN    NaN\n",
      "18             NOT_RIGHT_OF_WAY_I     VARCHAR  YES  NaN     NaN    NaN\n",
      "19                  HIT_AND_RUN_I     VARCHAR  YES  NaN     NaN    NaN\n",
      "20                         DAMAGE     VARCHAR  YES  NaN     NaN    NaN\n",
      "21           DATE_POLICE_NOTIFIED   TIMESTAMP  YES  NaN     NaN    NaN\n",
      "22        PRIM_CONTRIBUTORY_CAUSE     VARCHAR  YES  NaN     NaN    NaN\n",
      "23         SEC_CONTRIBUTORY_CAUSE     VARCHAR  YES  NaN     NaN    NaN\n",
      "24                      STREET_NO     INTEGER  YES  NaN     NaN    NaN\n",
      "25               STREET_DIRECTION     VARCHAR  YES  NaN     NaN    NaN\n",
      "26                    STREET_NAME     VARCHAR  YES  NaN     NaN    NaN\n",
      "27             BEAT_OF_OCCURRENCE     INTEGER  YES  NaN     NaN    NaN\n",
      "28                 PHOTOS_TAKEN_I     VARCHAR  YES  NaN     NaN    NaN\n",
      "29             STATEMENTS_TAKEN_I     VARCHAR  YES  NaN     NaN    NaN\n",
      "30                      DOORING_I     VARCHAR  YES  NaN     NaN    NaN\n",
      "31                    WORK_ZONE_I     VARCHAR  YES  NaN     NaN    NaN\n",
      "32                 WORK_ZONE_TYPE     VARCHAR  YES  NaN     NaN    NaN\n",
      "33              WORKERS_PRESENT_I     VARCHAR  YES  NaN     NaN    NaN\n",
      "34                      NUM_UNITS     INTEGER  YES  NaN     NaN    NaN\n",
      "35             MOST_SEVERE_INJURY     VARCHAR  YES  NaN     NaN    NaN\n",
      "36                 INJURIES_TOTAL     INTEGER  YES  NaN     NaN    NaN\n",
      "37                 INJURIES_FATAL     INTEGER  YES  NaN     NaN    NaN\n",
      "38        INJURIES_INCAPACITATING     INTEGER  YES  NaN     NaN    NaN\n",
      "39    INJURIES_NON_INCAPACITATING     INTEGER  YES  NaN     NaN    NaN\n",
      "40  INJURIES_REPORTED_NOT_EVIDENT     INTEGER  YES  NaN     NaN    NaN\n",
      "41         INJURIES_NO_INDICATION     INTEGER  YES  NaN     NaN    NaN\n",
      "42               INJURIES_UNKNOWN     INTEGER  YES  NaN     NaN    NaN\n",
      "43                     CRASH_HOUR     INTEGER  YES  NaN     NaN    NaN\n",
      "44              CRASH_DAY_OF_WEEK     INTEGER  YES  NaN     NaN    NaN\n",
      "45                    CRASH_MONTH     INTEGER  YES  NaN     NaN    NaN\n",
      "46                       LATITUDE      DOUBLE  YES  NaN     NaN    NaN\n",
      "47                      LONGITUDE      DOUBLE  YES  NaN     NaN    NaN\n",
      "48                       LOCATION     VARCHAR  YES  NaN     NaN    NaN\n"
     ]
    }
   ],
   "source": [
    "db.execute(\"DESCRIBE TrafficCrashes;\")\n",
    "print(db.fetch_df())"
   ]
  },
  {
   "cell_type": "code",
   "execution_count": 6,
   "metadata": {},
   "outputs": [],
   "source": [
    "# close created traffic-crashes.duckdb to save it\n",
    "db.close()"
   ]
  }
 ],
 "metadata": {
  "kernelspec": {
   "display_name": "Python 3",
   "language": "python",
   "name": "python3"
  },
  "language_info": {
   "codemirror_mode": {
    "name": "ipython",
    "version": 3
   },
   "file_extension": ".py",
   "mimetype": "text/x-python",
   "name": "python",
   "nbconvert_exporter": "python",
   "pygments_lexer": "ipython3",
   "version": "3.9.13"
  },
  "orig_nbformat": 4,
  "vscode": {
   "interpreter": {
    "hash": "1a3e099159d421e78526fb5b40e4e360fe55e1df4b858c2f1642cd2dd015e84a"
   }
  }
 },
 "nbformat": 4,
 "nbformat_minor": 2
}
